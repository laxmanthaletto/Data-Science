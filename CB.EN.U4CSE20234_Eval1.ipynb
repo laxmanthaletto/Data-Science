{
 "cells": [
  {
   "cell_type": "markdown",
   "metadata": {},
   "source": [
    "# 19CSE304: Foundations of Data Science\n",
    "Name: **Laxman K R** <br />Roll: **CB.EN.U4CSE20234**<br />**Lab Evaluation 1**"
   ]
  },
  {
   "cell_type": "code",
   "execution_count": 112,
   "metadata": {},
   "outputs": [],
   "source": [
    "import pandas as pd\n",
    "import numpy as np\n",
    "import matplotlib.pyplot as plt"
   ]
  },
  {
   "cell_type": "code",
   "execution_count": 113,
   "metadata": {},
   "outputs": [
    {
     "name": "stderr",
     "output_type": "stream",
     "text": [
      "C:\\Users\\Laxman\\AppData\\Local\\Temp\\ipykernel_9228\\287711517.py:1: DtypeWarning: Columns (7,9) have mixed types. Specify dtype option on import or set low_memory=False.\n",
      "  data=pd.read_csv('IoTBotNetDataset.csv')\n"
     ]
    }
   ],
   "source": [
    "data=pd.read_csv('IoTBotNetDataset.csv')"
   ]
  },
  {
   "cell_type": "markdown",
   "metadata": {},
   "source": [
    "Q1"
   ]
  },
  {
   "cell_type": "code",
   "execution_count": null,
   "metadata": {},
   "outputs": [],
   "source": [
    "data.to_csv('C:/Users/Laxman/Downloads/data.csv')"
   ]
  },
  {
   "cell_type": "markdown",
   "metadata": {},
   "source": [
    "Q2"
   ]
  },
  {
   "cell_type": "code",
   "execution_count": 116,
   "metadata": {},
   "outputs": [
    {
     "data": {
      "text/html": [
       "<div>\n",
       "<style scoped>\n",
       "    .dataframe tbody tr th:only-of-type {\n",
       "        vertical-align: middle;\n",
       "    }\n",
       "\n",
       "    .dataframe tbody tr th {\n",
       "        vertical-align: top;\n",
       "    }\n",
       "\n",
       "    .dataframe thead th {\n",
       "        text-align: right;\n",
       "    }\n",
       "</style>\n",
       "<table border=\"1\" class=\"dataframe\">\n",
       "  <thead>\n",
       "    <tr style=\"text-align: right;\">\n",
       "      <th></th>\n",
       "      <th>pkSeqID</th>\n",
       "      <th>stime</th>\n",
       "      <th>flags</th>\n",
       "      <th>flgs_number</th>\n",
       "      <th>proto</th>\n",
       "      <th>proto_number</th>\n",
       "      <th>pkts</th>\n",
       "      <th>mean</th>\n",
       "      <th>stddev</th>\n",
       "      <th>sum</th>\n",
       "      <th>min</th>\n",
       "      <th>max</th>\n",
       "      <th>sbytes</th>\n",
       "      <th>Pkts_P_State_P_Protocol_P_DestIP</th>\n",
       "      <th>subcategory</th>\n",
       "    </tr>\n",
       "  </thead>\n",
       "  <tbody>\n",
       "    <tr>\n",
       "      <th>0</th>\n",
       "      <td>1.0</td>\n",
       "      <td>1.528089e+09</td>\n",
       "      <td>e</td>\n",
       "      <td>1.0</td>\n",
       "      <td>tcp</td>\n",
       "      <td>1.0</td>\n",
       "      <td>8.0</td>\n",
       "      <td>0.068909</td>\n",
       "      <td>0.068909</td>\n",
       "      <td>0.137818</td>\n",
       "      <td>0.000000</td>\n",
       "      <td>0.137818</td>\n",
       "      <td>650.0</td>\n",
       "      <td>770.0</td>\n",
       "      <td>HTTP</td>\n",
       "    </tr>\n",
       "    <tr>\n",
       "      <th>1</th>\n",
       "      <td>2.0</td>\n",
       "      <td>1.528089e+09</td>\n",
       "      <td>e</td>\n",
       "      <td>1.0</td>\n",
       "      <td>arp</td>\n",
       "      <td>2.0</td>\n",
       "      <td>2.0</td>\n",
       "      <td>0.000131</td>\n",
       "      <td>0.000000</td>\n",
       "      <td>0.000131</td>\n",
       "      <td>0.000131</td>\n",
       "      <td>0.000131</td>\n",
       "      <td>60.0</td>\n",
       "      <td>2.0</td>\n",
       "      <td>HTTP</td>\n",
       "    </tr>\n",
       "    <tr>\n",
       "      <th>2</th>\n",
       "      <td>3.0</td>\n",
       "      <td>1.528089e+09</td>\n",
       "      <td>e</td>\n",
       "      <td>1.0</td>\n",
       "      <td>UDP</td>\n",
       "      <td>1.0</td>\n",
       "      <td>8.0</td>\n",
       "      <td>0.064494</td>\n",
       "      <td>0.064494</td>\n",
       "      <td>0.128988</td>\n",
       "      <td>0.000000</td>\n",
       "      <td>0.128988</td>\n",
       "      <td>796.0</td>\n",
       "      <td>770.0</td>\n",
       "      <td>HTTP</td>\n",
       "    </tr>\n",
       "    <tr>\n",
       "      <th>3</th>\n",
       "      <td>4.0</td>\n",
       "      <td>1.528089e+09</td>\n",
       "      <td>i</td>\n",
       "      <td>1.0</td>\n",
       "      <td>tcp</td>\n",
       "      <td>1.0</td>\n",
       "      <td>8.0</td>\n",
       "      <td>0.064189</td>\n",
       "      <td>0.064189</td>\n",
       "      <td>0.128378</td>\n",
       "      <td>0.000000</td>\n",
       "      <td>0.128378</td>\n",
       "      <td>694.0</td>\n",
       "      <td>770.0</td>\n",
       "      <td>HTTP</td>\n",
       "    </tr>\n",
       "    <tr>\n",
       "      <th>4</th>\n",
       "      <td>5.0</td>\n",
       "      <td>1.528089e+09</td>\n",
       "      <td>e</td>\n",
       "      <td>1.0</td>\n",
       "      <td>UDP</td>\n",
       "      <td>1.0</td>\n",
       "      <td>8.0</td>\n",
       "      <td>0.063887</td>\n",
       "      <td>0.063887</td>\n",
       "      <td>0.127774</td>\n",
       "      <td>0.000000</td>\n",
       "      <td>0.127774</td>\n",
       "      <td>989.0</td>\n",
       "      <td>770.0</td>\n",
       "      <td>HTTP</td>\n",
       "    </tr>\n",
       "    <tr>\n",
       "      <th>...</th>\n",
       "      <td>...</td>\n",
       "      <td>...</td>\n",
       "      <td>...</td>\n",
       "      <td>...</td>\n",
       "      <td>...</td>\n",
       "      <td>...</td>\n",
       "      <td>...</td>\n",
       "      <td>...</td>\n",
       "      <td>...</td>\n",
       "      <td>...</td>\n",
       "      <td>...</td>\n",
       "      <td>...</td>\n",
       "      <td>...</td>\n",
       "      <td>...</td>\n",
       "      <td>...</td>\n",
       "    </tr>\n",
       "    <tr>\n",
       "      <th>998548</th>\n",
       "      <td>998549.0</td>\n",
       "      <td>1.528085e+09</td>\n",
       "      <td>e</td>\n",
       "      <td>1.0</td>\n",
       "      <td>udp</td>\n",
       "      <td>3.0</td>\n",
       "      <td>7.0</td>\n",
       "      <td>3.086251</td>\n",
       "      <td>1.782055</td>\n",
       "      <td>12.345005</td>\n",
       "      <td>0.000000</td>\n",
       "      <td>4.146772</td>\n",
       "      <td>420.0</td>\n",
       "      <td>700.0</td>\n",
       "      <td>UDP</td>\n",
       "    </tr>\n",
       "    <tr>\n",
       "      <th>998549</th>\n",
       "      <td>998550.0</td>\n",
       "      <td>1.528085e+09</td>\n",
       "      <td>e</td>\n",
       "      <td>1.0</td>\n",
       "      <td>udp</td>\n",
       "      <td>3.0</td>\n",
       "      <td>7.0</td>\n",
       "      <td>3.086251</td>\n",
       "      <td>1.782055</td>\n",
       "      <td>12.345005</td>\n",
       "      <td>0.000000</td>\n",
       "      <td>4.146772</td>\n",
       "      <td>420.0</td>\n",
       "      <td>700.0</td>\n",
       "      <td>UDP</td>\n",
       "    </tr>\n",
       "    <tr>\n",
       "      <th>998550</th>\n",
       "      <td>998551.0</td>\n",
       "      <td>1.528085e+09</td>\n",
       "      <td>e</td>\n",
       "      <td>1.0</td>\n",
       "      <td>udp</td>\n",
       "      <td>3.0</td>\n",
       "      <td>7.0</td>\n",
       "      <td>3.086251</td>\n",
       "      <td>1.782055</td>\n",
       "      <td>12.345005</td>\n",
       "      <td>0.000000</td>\n",
       "      <td>4.146771</td>\n",
       "      <td>420.0</td>\n",
       "      <td>700.0</td>\n",
       "      <td>UDP</td>\n",
       "    </tr>\n",
       "    <tr>\n",
       "      <th>998551</th>\n",
       "      <td>998552.0</td>\n",
       "      <td>1.528085e+09</td>\n",
       "      <td>e</td>\n",
       "      <td>1.0</td>\n",
       "      <td>udp</td>\n",
       "      <td>3.0</td>\n",
       "      <td>7.0</td>\n",
       "      <td>3.086251</td>\n",
       "      <td>1.782055</td>\n",
       "      <td>12.345003</td>\n",
       "      <td>0.000000</td>\n",
       "      <td>4.146771</td>\n",
       "      <td>420.0</td>\n",
       "      <td>700.0</td>\n",
       "      <td>UDP</td>\n",
       "    </tr>\n",
       "    <tr>\n",
       "      <th>998552</th>\n",
       "      <td>998553.0</td>\n",
       "      <td>1.528085e+09</td>\n",
       "      <td>e</td>\n",
       "      <td>1.0</td>\n",
       "      <td>udp</td>\n",
       "      <td>3.0</td>\n",
       "      <td>7.0</td>\n",
       "      <td>3.086251</td>\n",
       "      <td>1.782055</td>\n",
       "      <td>12.345003</td>\n",
       "      <td>0.000000</td>\n",
       "      <td>4.146770</td>\n",
       "      <td>420.0</td>\n",
       "      <td>700.0</td>\n",
       "      <td>UDP</td>\n",
       "    </tr>\n",
       "  </tbody>\n",
       "</table>\n",
       "<p>998553 rows × 15 columns</p>\n",
       "</div>"
      ],
      "text/plain": [
       "         pkSeqID         stime flags  flgs_number proto  proto_number  pkts  \\\n",
       "0            1.0  1.528089e+09     e          1.0   tcp           1.0   8.0   \n",
       "1            2.0  1.528089e+09     e          1.0   arp           2.0   2.0   \n",
       "2            3.0  1.528089e+09     e          1.0   UDP           1.0   8.0   \n",
       "3            4.0  1.528089e+09     i          1.0   tcp           1.0   8.0   \n",
       "4            5.0  1.528089e+09     e          1.0   UDP           1.0   8.0   \n",
       "...          ...           ...   ...          ...   ...           ...   ...   \n",
       "998548  998549.0  1.528085e+09     e          1.0   udp           3.0   7.0   \n",
       "998549  998550.0  1.528085e+09     e          1.0   udp           3.0   7.0   \n",
       "998550  998551.0  1.528085e+09     e          1.0   udp           3.0   7.0   \n",
       "998551  998552.0  1.528085e+09     e          1.0   udp           3.0   7.0   \n",
       "998552  998553.0  1.528085e+09     e          1.0   udp           3.0   7.0   \n",
       "\n",
       "            mean    stddev        sum       min       max  sbytes  \\\n",
       "0       0.068909  0.068909   0.137818  0.000000  0.137818   650.0   \n",
       "1       0.000131  0.000000   0.000131  0.000131  0.000131    60.0   \n",
       "2       0.064494  0.064494   0.128988  0.000000  0.128988   796.0   \n",
       "3       0.064189  0.064189   0.128378  0.000000  0.128378   694.0   \n",
       "4       0.063887  0.063887   0.127774  0.000000  0.127774   989.0   \n",
       "...          ...       ...        ...       ...       ...     ...   \n",
       "998548  3.086251  1.782055  12.345005  0.000000  4.146772   420.0   \n",
       "998549  3.086251  1.782055  12.345005  0.000000  4.146772   420.0   \n",
       "998550  3.086251  1.782055  12.345005  0.000000  4.146771   420.0   \n",
       "998551  3.086251  1.782055  12.345003  0.000000  4.146771   420.0   \n",
       "998552  3.086251  1.782055  12.345003  0.000000  4.146770   420.0   \n",
       "\n",
       "        Pkts_P_State_P_Protocol_P_DestIP subcategory  \n",
       "0                                  770.0        HTTP  \n",
       "1                                    2.0        HTTP  \n",
       "2                                  770.0        HTTP  \n",
       "3                                  770.0        HTTP  \n",
       "4                                  770.0        HTTP  \n",
       "...                                  ...         ...  \n",
       "998548                             700.0         UDP  \n",
       "998549                             700.0         UDP  \n",
       "998550                             700.0         UDP  \n",
       "998551                             700.0         UDP  \n",
       "998552                             700.0         UDP  \n",
       "\n",
       "[998553 rows x 15 columns]"
      ]
     },
     "execution_count": 116,
     "metadata": {},
     "output_type": "execute_result"
    }
   ],
   "source": [
    "result=data.drop(columns=['saddr','sport','daddr','dport','bytes','state','state_number','ltime',\n",
    "'seq','dur','spkts','dpkts','dbytes','rate','srate',\n",
    "'drate','TnBPSrcIP','TnBPDstIP','TnP_PSrcIP','TnP_PDstIP',\n",
    "'TnP_PerProto','TnP_Per_Dport','AR_P_Proto_P_SrcIP','AR_P_Proto_P_DstIP',\n",
    "'N_IN_Conn_P_DstIP','N_IN_Conn_P_SrcIP','AR_P_Proto_P_Sport',\n",
    "'AR_P_Proto_P_Dport','Pkts_P_State_P_Protocol_P_SrcIP',\n",
    "'attack','category'])\n",
    "result"
   ]
  },
  {
   "cell_type": "markdown",
   "metadata": {},
   "source": [
    "Q3"
   ]
  },
  {
   "cell_type": "code",
   "execution_count": null,
   "metadata": {},
   "outputs": [],
   "source": []
  },
  {
   "cell_type": "markdown",
   "metadata": {},
   "source": [
    "Q4"
   ]
  },
  {
   "cell_type": "code",
   "execution_count": null,
   "metadata": {},
   "outputs": [],
   "source": []
  },
  {
   "cell_type": "markdown",
   "metadata": {},
   "source": [
    "Q5"
   ]
  },
  {
   "cell_type": "code",
   "execution_count": 117,
   "metadata": {},
   "outputs": [
    {
     "name": "stdout",
     "output_type": "stream",
     "text": [
      "0.5481789169906507\n"
     ]
    }
   ],
   "source": [
    "print(result['mean'].corr(result['stddev']))"
   ]
  },
  {
   "cell_type": "markdown",
   "metadata": {},
   "source": [
    "Q6"
   ]
  },
  {
   "cell_type": "code",
   "execution_count": 118,
   "metadata": {},
   "outputs": [
    {
     "data": {
      "text/html": [
       "<div>\n",
       "<style scoped>\n",
       "    .dataframe tbody tr th:only-of-type {\n",
       "        vertical-align: middle;\n",
       "    }\n",
       "\n",
       "    .dataframe tbody tr th {\n",
       "        vertical-align: top;\n",
       "    }\n",
       "\n",
       "    .dataframe thead th {\n",
       "        text-align: right;\n",
       "    }\n",
       "</style>\n",
       "<table border=\"1\" class=\"dataframe\">\n",
       "  <thead>\n",
       "    <tr style=\"text-align: right;\">\n",
       "      <th></th>\n",
       "      <th>pkSeqID</th>\n",
       "      <th>stime</th>\n",
       "      <th>flgs_number</th>\n",
       "      <th>proto_number</th>\n",
       "      <th>pkts</th>\n",
       "      <th>mean</th>\n",
       "      <th>stddev</th>\n",
       "      <th>sum</th>\n",
       "      <th>min</th>\n",
       "      <th>max</th>\n",
       "      <th>sbytes</th>\n",
       "      <th>Pkts_P_State_P_Protocol_P_DestIP</th>\n",
       "    </tr>\n",
       "  </thead>\n",
       "  <tbody>\n",
       "    <tr>\n",
       "      <th>count</th>\n",
       "      <td>996297.000000</td>\n",
       "      <td>9.962970e+05</td>\n",
       "      <td>996297.000000</td>\n",
       "      <td>996294.000000</td>\n",
       "      <td>996297.000000</td>\n",
       "      <td>996297.000000</td>\n",
       "      <td>996297.000000</td>\n",
       "      <td>996297.000000</td>\n",
       "      <td>996297.000000</td>\n",
       "      <td>996297.000000</td>\n",
       "      <td>996297.000000</td>\n",
       "      <td>996297.000000</td>\n",
       "    </tr>\n",
       "    <tr>\n",
       "      <th>mean</th>\n",
       "      <td>500191.103927</td>\n",
       "      <td>1.528083e+09</td>\n",
       "      <td>1.808430</td>\n",
       "      <td>1.765398</td>\n",
       "      <td>6.520403</td>\n",
       "      <td>1.277589</td>\n",
       "      <td>0.629559</td>\n",
       "      <td>5.391451</td>\n",
       "      <td>0.429373</td>\n",
       "      <td>1.908964</td>\n",
       "      <td>583.079864</td>\n",
       "      <td>488.192833</td>\n",
       "    </tr>\n",
       "    <tr>\n",
       "      <th>std</th>\n",
       "      <td>287942.231266</td>\n",
       "      <td>1.754173e+03</td>\n",
       "      <td>1.107501</td>\n",
       "      <td>0.972087</td>\n",
       "      <td>8.634993</td>\n",
       "      <td>1.495525</td>\n",
       "      <td>0.821542</td>\n",
       "      <td>6.414265</td>\n",
       "      <td>1.153589</td>\n",
       "      <td>2.039865</td>\n",
       "      <td>602.242764</td>\n",
       "      <td>296.422287</td>\n",
       "    </tr>\n",
       "    <tr>\n",
       "      <th>min</th>\n",
       "      <td>1.000000</td>\n",
       "      <td>1.528081e+09</td>\n",
       "      <td>1.000000</td>\n",
       "      <td>1.000000</td>\n",
       "      <td>1.000000</td>\n",
       "      <td>0.000000</td>\n",
       "      <td>0.000000</td>\n",
       "      <td>0.000000</td>\n",
       "      <td>0.000000</td>\n",
       "      <td>0.000000</td>\n",
       "      <td>60.000000</td>\n",
       "      <td>1.000000</td>\n",
       "    </tr>\n",
       "    <tr>\n",
       "      <th>25%</th>\n",
       "      <td>251331.000000</td>\n",
       "      <td>1.528081e+09</td>\n",
       "      <td>1.000000</td>\n",
       "      <td>1.000000</td>\n",
       "      <td>5.000000</td>\n",
       "      <td>0.004337</td>\n",
       "      <td>0.000000</td>\n",
       "      <td>0.019994</td>\n",
       "      <td>0.000000</td>\n",
       "      <td>0.019238</td>\n",
       "      <td>428.000000</td>\n",
       "      <td>286.000000</td>\n",
       "    </tr>\n",
       "    <tr>\n",
       "      <th>50%</th>\n",
       "      <td>500405.000000</td>\n",
       "      <td>1.528081e+09</td>\n",
       "      <td>2.000000</td>\n",
       "      <td>1.000000</td>\n",
       "      <td>6.000000</td>\n",
       "      <td>0.176458</td>\n",
       "      <td>0.036331</td>\n",
       "      <td>0.318103</td>\n",
       "      <td>0.000000</td>\n",
       "      <td>0.203555</td>\n",
       "      <td>616.000000</td>\n",
       "      <td>400.000000</td>\n",
       "    </tr>\n",
       "    <tr>\n",
       "      <th>75%</th>\n",
       "      <td>749479.000000</td>\n",
       "      <td>1.528085e+09</td>\n",
       "      <td>2.000000</td>\n",
       "      <td>3.000000</td>\n",
       "      <td>8.000000</td>\n",
       "      <td>2.695344</td>\n",
       "      <td>1.556310</td>\n",
       "      <td>10.848568</td>\n",
       "      <td>0.088488</td>\n",
       "      <td>4.151993</td>\n",
       "      <td>770.000000</td>\n",
       "      <td>600.000000</td>\n",
       "    </tr>\n",
       "    <tr>\n",
       "      <th>max</th>\n",
       "      <td>998553.000000</td>\n",
       "      <td>1.528089e+09</td>\n",
       "      <td>6.000000</td>\n",
       "      <td>4.000000</td>\n",
       "      <td>5886.000000</td>\n",
       "      <td>4.911030</td>\n",
       "      <td>2.445529</td>\n",
       "      <td>28.064384</td>\n",
       "      <td>4.911030</td>\n",
       "      <td>4.999856</td>\n",
       "      <td>412020.000000</td>\n",
       "      <td>5886.000000</td>\n",
       "    </tr>\n",
       "  </tbody>\n",
       "</table>\n",
       "</div>"
      ],
      "text/plain": [
       "             pkSeqID         stime    flgs_number   proto_number  \\\n",
       "count  996297.000000  9.962970e+05  996297.000000  996294.000000   \n",
       "mean   500191.103927  1.528083e+09       1.808430       1.765398   \n",
       "std    287942.231266  1.754173e+03       1.107501       0.972087   \n",
       "min         1.000000  1.528081e+09       1.000000       1.000000   \n",
       "25%    251331.000000  1.528081e+09       1.000000       1.000000   \n",
       "50%    500405.000000  1.528081e+09       2.000000       1.000000   \n",
       "75%    749479.000000  1.528085e+09       2.000000       3.000000   \n",
       "max    998553.000000  1.528089e+09       6.000000       4.000000   \n",
       "\n",
       "                pkts           mean         stddev            sum  \\\n",
       "count  996297.000000  996297.000000  996297.000000  996297.000000   \n",
       "mean        6.520403       1.277589       0.629559       5.391451   \n",
       "std         8.634993       1.495525       0.821542       6.414265   \n",
       "min         1.000000       0.000000       0.000000       0.000000   \n",
       "25%         5.000000       0.004337       0.000000       0.019994   \n",
       "50%         6.000000       0.176458       0.036331       0.318103   \n",
       "75%         8.000000       2.695344       1.556310      10.848568   \n",
       "max      5886.000000       4.911030       2.445529      28.064384   \n",
       "\n",
       "                 min            max         sbytes  \\\n",
       "count  996297.000000  996297.000000  996297.000000   \n",
       "mean        0.429373       1.908964     583.079864   \n",
       "std         1.153589       2.039865     602.242764   \n",
       "min         0.000000       0.000000      60.000000   \n",
       "25%         0.000000       0.019238     428.000000   \n",
       "50%         0.000000       0.203555     616.000000   \n",
       "75%         0.088488       4.151993     770.000000   \n",
       "max         4.911030       4.999856  412020.000000   \n",
       "\n",
       "       Pkts_P_State_P_Protocol_P_DestIP  \n",
       "count                     996297.000000  \n",
       "mean                         488.192833  \n",
       "std                          296.422287  \n",
       "min                            1.000000  \n",
       "25%                          286.000000  \n",
       "50%                          400.000000  \n",
       "75%                          600.000000  \n",
       "max                         5886.000000  "
      ]
     },
     "execution_count": 118,
     "metadata": {},
     "output_type": "execute_result"
    }
   ],
   "source": [
    "result.describe()"
   ]
  },
  {
   "cell_type": "markdown",
   "metadata": {},
   "source": [
    "Q7"
   ]
  },
  {
   "cell_type": "code",
   "execution_count": 119,
   "metadata": {},
   "outputs": [
    {
     "data": {
      "text/html": [
       "<div>\n",
       "<style scoped>\n",
       "    .dataframe tbody tr th:only-of-type {\n",
       "        vertical-align: middle;\n",
       "    }\n",
       "\n",
       "    .dataframe tbody tr th {\n",
       "        vertical-align: top;\n",
       "    }\n",
       "\n",
       "    .dataframe thead th {\n",
       "        text-align: right;\n",
       "    }\n",
       "</style>\n",
       "<table border=\"1\" class=\"dataframe\">\n",
       "  <thead>\n",
       "    <tr style=\"text-align: right;\">\n",
       "      <th></th>\n",
       "      <th>pkSeqID</th>\n",
       "      <th>stime</th>\n",
       "      <th>flags</th>\n",
       "      <th>flgs_number</th>\n",
       "      <th>proto</th>\n",
       "      <th>proto_number</th>\n",
       "      <th>pkts</th>\n",
       "      <th>mean</th>\n",
       "      <th>stddev</th>\n",
       "      <th>sum</th>\n",
       "      <th>min</th>\n",
       "      <th>max</th>\n",
       "      <th>sbytes</th>\n",
       "      <th>Pkts_P_State_P_Protocol_P_DestIP</th>\n",
       "      <th>subcategory</th>\n",
       "    </tr>\n",
       "  </thead>\n",
       "  <tbody>\n",
       "    <tr>\n",
       "      <th>0</th>\n",
       "      <td>1.0</td>\n",
       "      <td>1.528089e+09</td>\n",
       "      <td>e</td>\n",
       "      <td>1.0</td>\n",
       "      <td>tcp</td>\n",
       "      <td>1.0</td>\n",
       "      <td>8.0</td>\n",
       "      <td>0.068909</td>\n",
       "      <td>0.068909</td>\n",
       "      <td>0.137818</td>\n",
       "      <td>0.000000</td>\n",
       "      <td>0.137818</td>\n",
       "      <td>650.0</td>\n",
       "      <td>770.0</td>\n",
       "      <td>HTTP</td>\n",
       "    </tr>\n",
       "    <tr>\n",
       "      <th>1</th>\n",
       "      <td>2.0</td>\n",
       "      <td>1.528089e+09</td>\n",
       "      <td>e</td>\n",
       "      <td>1.0</td>\n",
       "      <td>arp</td>\n",
       "      <td>2.0</td>\n",
       "      <td>2.0</td>\n",
       "      <td>0.000131</td>\n",
       "      <td>0.000000</td>\n",
       "      <td>0.000131</td>\n",
       "      <td>0.000131</td>\n",
       "      <td>0.000131</td>\n",
       "      <td>60.0</td>\n",
       "      <td>2.0</td>\n",
       "      <td>HTTP</td>\n",
       "    </tr>\n",
       "    <tr>\n",
       "      <th>2</th>\n",
       "      <td>3.0</td>\n",
       "      <td>1.528089e+09</td>\n",
       "      <td>e</td>\n",
       "      <td>1.0</td>\n",
       "      <td>UDP</td>\n",
       "      <td>1.0</td>\n",
       "      <td>8.0</td>\n",
       "      <td>0.064494</td>\n",
       "      <td>0.064494</td>\n",
       "      <td>0.128988</td>\n",
       "      <td>0.000000</td>\n",
       "      <td>0.128988</td>\n",
       "      <td>796.0</td>\n",
       "      <td>770.0</td>\n",
       "      <td>HTTP</td>\n",
       "    </tr>\n",
       "  </tbody>\n",
       "</table>\n",
       "</div>"
      ],
      "text/plain": [
       "   pkSeqID         stime flags  flgs_number proto  proto_number  pkts  \\\n",
       "0      1.0  1.528089e+09     e          1.0   tcp           1.0   8.0   \n",
       "1      2.0  1.528089e+09     e          1.0   arp           2.0   2.0   \n",
       "2      3.0  1.528089e+09     e          1.0   UDP           1.0   8.0   \n",
       "\n",
       "       mean    stddev       sum       min       max  sbytes  \\\n",
       "0  0.068909  0.068909  0.137818  0.000000  0.137818   650.0   \n",
       "1  0.000131  0.000000  0.000131  0.000131  0.000131    60.0   \n",
       "2  0.064494  0.064494  0.128988  0.000000  0.128988   796.0   \n",
       "\n",
       "   Pkts_P_State_P_Protocol_P_DestIP subcategory  \n",
       "0                             770.0        HTTP  \n",
       "1                               2.0        HTTP  \n",
       "2                             770.0        HTTP  "
      ]
     },
     "execution_count": 119,
     "metadata": {},
     "output_type": "execute_result"
    }
   ],
   "source": [
    "result.head(3)"
   ]
  },
  {
   "cell_type": "markdown",
   "metadata": {},
   "source": [
    "Q8"
   ]
  },
  {
   "cell_type": "code",
   "execution_count": 120,
   "metadata": {},
   "outputs": [
    {
     "data": {
      "text/html": [
       "<div>\n",
       "<style scoped>\n",
       "    .dataframe tbody tr th:only-of-type {\n",
       "        vertical-align: middle;\n",
       "    }\n",
       "\n",
       "    .dataframe tbody tr th {\n",
       "        vertical-align: top;\n",
       "    }\n",
       "\n",
       "    .dataframe thead th {\n",
       "        text-align: right;\n",
       "    }\n",
       "</style>\n",
       "<table border=\"1\" class=\"dataframe\">\n",
       "  <thead>\n",
       "    <tr style=\"text-align: right;\">\n",
       "      <th></th>\n",
       "      <th>pkSeqID</th>\n",
       "      <th>stime</th>\n",
       "      <th>flags</th>\n",
       "      <th>flgs_number</th>\n",
       "      <th>proto</th>\n",
       "      <th>proto_number</th>\n",
       "      <th>pkts</th>\n",
       "      <th>mean</th>\n",
       "      <th>stddev</th>\n",
       "      <th>sum</th>\n",
       "      <th>min</th>\n",
       "      <th>max</th>\n",
       "      <th>sbytes</th>\n",
       "      <th>Pkts_P_State_P_Protocol_P_DestIP</th>\n",
       "      <th>subcategory</th>\n",
       "    </tr>\n",
       "  </thead>\n",
       "  <tbody>\n",
       "    <tr>\n",
       "      <th>998549</th>\n",
       "      <td>998550.0</td>\n",
       "      <td>1.528085e+09</td>\n",
       "      <td>e</td>\n",
       "      <td>1.0</td>\n",
       "      <td>udp</td>\n",
       "      <td>3.0</td>\n",
       "      <td>7.0</td>\n",
       "      <td>3.086251</td>\n",
       "      <td>1.782055</td>\n",
       "      <td>12.345005</td>\n",
       "      <td>0.0</td>\n",
       "      <td>4.146772</td>\n",
       "      <td>420.0</td>\n",
       "      <td>700.0</td>\n",
       "      <td>UDP</td>\n",
       "    </tr>\n",
       "    <tr>\n",
       "      <th>998550</th>\n",
       "      <td>998551.0</td>\n",
       "      <td>1.528085e+09</td>\n",
       "      <td>e</td>\n",
       "      <td>1.0</td>\n",
       "      <td>udp</td>\n",
       "      <td>3.0</td>\n",
       "      <td>7.0</td>\n",
       "      <td>3.086251</td>\n",
       "      <td>1.782055</td>\n",
       "      <td>12.345005</td>\n",
       "      <td>0.0</td>\n",
       "      <td>4.146771</td>\n",
       "      <td>420.0</td>\n",
       "      <td>700.0</td>\n",
       "      <td>UDP</td>\n",
       "    </tr>\n",
       "    <tr>\n",
       "      <th>998551</th>\n",
       "      <td>998552.0</td>\n",
       "      <td>1.528085e+09</td>\n",
       "      <td>e</td>\n",
       "      <td>1.0</td>\n",
       "      <td>udp</td>\n",
       "      <td>3.0</td>\n",
       "      <td>7.0</td>\n",
       "      <td>3.086251</td>\n",
       "      <td>1.782055</td>\n",
       "      <td>12.345003</td>\n",
       "      <td>0.0</td>\n",
       "      <td>4.146771</td>\n",
       "      <td>420.0</td>\n",
       "      <td>700.0</td>\n",
       "      <td>UDP</td>\n",
       "    </tr>\n",
       "    <tr>\n",
       "      <th>998552</th>\n",
       "      <td>998553.0</td>\n",
       "      <td>1.528085e+09</td>\n",
       "      <td>e</td>\n",
       "      <td>1.0</td>\n",
       "      <td>udp</td>\n",
       "      <td>3.0</td>\n",
       "      <td>7.0</td>\n",
       "      <td>3.086251</td>\n",
       "      <td>1.782055</td>\n",
       "      <td>12.345003</td>\n",
       "      <td>0.0</td>\n",
       "      <td>4.146770</td>\n",
       "      <td>420.0</td>\n",
       "      <td>700.0</td>\n",
       "      <td>UDP</td>\n",
       "    </tr>\n",
       "  </tbody>\n",
       "</table>\n",
       "</div>"
      ],
      "text/plain": [
       "         pkSeqID         stime flags  flgs_number proto  proto_number  pkts  \\\n",
       "998549  998550.0  1.528085e+09     e          1.0   udp           3.0   7.0   \n",
       "998550  998551.0  1.528085e+09     e          1.0   udp           3.0   7.0   \n",
       "998551  998552.0  1.528085e+09     e          1.0   udp           3.0   7.0   \n",
       "998552  998553.0  1.528085e+09     e          1.0   udp           3.0   7.0   \n",
       "\n",
       "            mean    stddev        sum  min       max  sbytes  \\\n",
       "998549  3.086251  1.782055  12.345005  0.0  4.146772   420.0   \n",
       "998550  3.086251  1.782055  12.345005  0.0  4.146771   420.0   \n",
       "998551  3.086251  1.782055  12.345003  0.0  4.146771   420.0   \n",
       "998552  3.086251  1.782055  12.345003  0.0  4.146770   420.0   \n",
       "\n",
       "        Pkts_P_State_P_Protocol_P_DestIP subcategory  \n",
       "998549                             700.0         UDP  \n",
       "998550                             700.0         UDP  \n",
       "998551                             700.0         UDP  \n",
       "998552                             700.0         UDP  "
      ]
     },
     "execution_count": 120,
     "metadata": {},
     "output_type": "execute_result"
    }
   ],
   "source": [
    "result.tail(4)"
   ]
  },
  {
   "cell_type": "markdown",
   "metadata": {},
   "source": [
    "Q9"
   ]
  },
  {
   "cell_type": "code",
   "execution_count": 121,
   "metadata": {},
   "outputs": [
    {
     "data": {
      "text/html": [
       "<div>\n",
       "<style scoped>\n",
       "    .dataframe tbody tr th:only-of-type {\n",
       "        vertical-align: middle;\n",
       "    }\n",
       "\n",
       "    .dataframe tbody tr th {\n",
       "        vertical-align: top;\n",
       "    }\n",
       "\n",
       "    .dataframe thead th {\n",
       "        text-align: right;\n",
       "    }\n",
       "</style>\n",
       "<table border=\"1\" class=\"dataframe\">\n",
       "  <thead>\n",
       "    <tr style=\"text-align: right;\">\n",
       "      <th></th>\n",
       "      <th>pkSeqID</th>\n",
       "      <th>stime</th>\n",
       "      <th>flags</th>\n",
       "      <th>flgs_number</th>\n",
       "      <th>proto</th>\n",
       "      <th>proto_number</th>\n",
       "      <th>pkts</th>\n",
       "      <th>mean</th>\n",
       "      <th>stddev</th>\n",
       "      <th>sum</th>\n",
       "      <th>min</th>\n",
       "      <th>max</th>\n",
       "      <th>sbytes</th>\n",
       "      <th>Pkts_P_State_P_Protocol_P_DestIP</th>\n",
       "      <th>subcategory</th>\n",
       "    </tr>\n",
       "  </thead>\n",
       "  <tbody>\n",
       "    <tr>\n",
       "      <th>2</th>\n",
       "      <td>3.0</td>\n",
       "      <td>1.528089e+09</td>\n",
       "      <td>e</td>\n",
       "      <td>1.0</td>\n",
       "      <td>UDP</td>\n",
       "      <td>1.0</td>\n",
       "      <td>8.0</td>\n",
       "      <td>0.064494</td>\n",
       "      <td>0.064494</td>\n",
       "      <td>0.128988</td>\n",
       "      <td>0.0</td>\n",
       "      <td>0.128988</td>\n",
       "      <td>796.0</td>\n",
       "      <td>770.0</td>\n",
       "      <td>HTTP</td>\n",
       "    </tr>\n",
       "  </tbody>\n",
       "</table>\n",
       "</div>"
      ],
      "text/plain": [
       "   pkSeqID         stime flags  flgs_number proto  proto_number  pkts  \\\n",
       "2      3.0  1.528089e+09     e          1.0   UDP           1.0   8.0   \n",
       "\n",
       "       mean    stddev       sum  min       max  sbytes  \\\n",
       "2  0.064494  0.064494  0.128988  0.0  0.128988   796.0   \n",
       "\n",
       "   Pkts_P_State_P_Protocol_P_DestIP subcategory  \n",
       "2                             770.0        HTTP  "
      ]
     },
     "execution_count": 121,
     "metadata": {},
     "output_type": "execute_result"
    }
   ],
   "source": [
    "r9=result.loc[result['proto'] == \"UDP\"]\n",
    "r9.head(1)"
   ]
  },
  {
   "cell_type": "markdown",
   "metadata": {},
   "source": [
    "Q10"
   ]
  },
  {
   "cell_type": "code",
   "execution_count": 131,
   "metadata": {},
   "outputs": [
    {
     "name": "stdout",
     "output_type": "stream",
     "text": [
      "998553\n"
     ]
    }
   ],
   "source": [
    "print(len(result))"
   ]
  },
  {
   "cell_type": "markdown",
   "metadata": {},
   "source": [
    "Q11"
   ]
  },
  {
   "cell_type": "code",
   "execution_count": 132,
   "metadata": {},
   "outputs": [
    {
     "data": {
      "text/html": [
       "<div>\n",
       "<style scoped>\n",
       "    .dataframe tbody tr th:only-of-type {\n",
       "        vertical-align: middle;\n",
       "    }\n",
       "\n",
       "    .dataframe tbody tr th {\n",
       "        vertical-align: top;\n",
       "    }\n",
       "\n",
       "    .dataframe thead th {\n",
       "        text-align: right;\n",
       "    }\n",
       "</style>\n",
       "<table border=\"1\" class=\"dataframe\">\n",
       "  <thead>\n",
       "    <tr style=\"text-align: right;\">\n",
       "      <th></th>\n",
       "      <th>pkSeqID</th>\n",
       "      <th>stime</th>\n",
       "      <th>flags</th>\n",
       "      <th>flgs_number</th>\n",
       "      <th>proto</th>\n",
       "    </tr>\n",
       "  </thead>\n",
       "  <tbody>\n",
       "    <tr>\n",
       "      <th>1</th>\n",
       "      <td>2.0</td>\n",
       "      <td>1.528089e+09</td>\n",
       "      <td>e</td>\n",
       "      <td>1.0</td>\n",
       "      <td>arp</td>\n",
       "    </tr>\n",
       "  </tbody>\n",
       "</table>\n",
       "</div>"
      ],
      "text/plain": [
       "   pkSeqID         stime flags  flgs_number proto\n",
       "1      2.0  1.528089e+09     e          1.0   arp"
      ]
     },
     "execution_count": 132,
     "metadata": {},
     "output_type": "execute_result"
    }
   ],
   "source": [
    "result.iloc[[1],[0,1,2,3,4]]"
   ]
  },
  {
   "cell_type": "markdown",
   "metadata": {},
   "source": [
    "Q12"
   ]
  },
  {
   "cell_type": "code",
   "execution_count": 133,
   "metadata": {},
   "outputs": [
    {
     "name": "stdout",
     "output_type": "stream",
     "text": [
      "30\n"
     ]
    }
   ],
   "source": [
    "r12=result.loc[result['flags'] == \"i\"]\n",
    "print(len(r12))"
   ]
  },
  {
   "cell_type": "markdown",
   "metadata": {},
   "source": [
    "Q13"
   ]
  },
  {
   "cell_type": "code",
   "execution_count": 134,
   "metadata": {},
   "outputs": [
    {
     "name": "stdout",
     "output_type": "stream",
     "text": [
      "         pkSeqID         stime flags  flgs_number proto  proto_number  pkts  \\\n",
      "0            1.0  1.528089e+09     e          1.0   tcp           1.0   8.0   \n",
      "1            2.0  1.528089e+09     e          1.0   arp           2.0   2.0   \n",
      "2            3.0  1.528089e+09     e          1.0   UDP           1.0   8.0   \n",
      "3            4.0  1.528089e+09     i          1.0   tcp           1.0   8.0   \n",
      "4            5.0  1.528089e+09     e          1.0   UDP           1.0   8.0   \n",
      "...          ...           ...   ...          ...   ...           ...   ...   \n",
      "998548  998549.0  1.528085e+09     e          1.0   udp           3.0   7.0   \n",
      "998549  998550.0  1.528085e+09     e          1.0   udp           3.0   7.0   \n",
      "998550  998551.0  1.528085e+09     e          1.0   udp           3.0   7.0   \n",
      "998551  998552.0  1.528085e+09     e          1.0   udp           3.0   7.0   \n",
      "998552  998553.0  1.528085e+09     e          1.0   udp           3.0   7.0   \n",
      "\n",
      "            mean    stddev        sum       min       max  sbytes  \\\n",
      "0       0.068909  0.068909   0.137818  0.000000  0.137818   650.0   \n",
      "1       0.000131  0.000000   0.000131  0.000131  0.000131    60.0   \n",
      "2       0.064494  0.064494   0.128988  0.000000  0.128988   796.0   \n",
      "3       0.064189  0.064189   0.128378  0.000000  0.128378   694.0   \n",
      "4       0.063887  0.063887   0.127774  0.000000  0.127774   989.0   \n",
      "...          ...       ...        ...       ...       ...     ...   \n",
      "998548  3.086251  1.782055  12.345005  0.000000  4.146772   420.0   \n",
      "998549  3.086251  1.782055  12.345005  0.000000  4.146772   420.0   \n",
      "998550  3.086251  1.782055  12.345005  0.000000  4.146771   420.0   \n",
      "998551  3.086251  1.782055  12.345003  0.000000  4.146771   420.0   \n",
      "998552  3.086251  1.782055  12.345003  0.000000  4.146770   420.0   \n",
      "\n",
      "        Pkts_P_State_P_Protocol_P_DestIP subcategory  \n",
      "0                                  770.0        HTTP  \n",
      "1                                    2.0        HTTP  \n",
      "2                                  770.0        HTTP  \n",
      "3                                  770.0        HTTP  \n",
      "4                                  770.0        HTTP  \n",
      "...                                  ...         ...  \n",
      "998548                             700.0         UDP  \n",
      "998549                             700.0         UDP  \n",
      "998550                             700.0         UDP  \n",
      "998551                             700.0         UDP  \n",
      "998552                             700.0         UDP  \n",
      "\n",
      "[875049 rows x 15 columns]\n"
     ]
    }
   ],
   "source": [
    "grp1=result.loc[result['pkts']<=10]\n",
    "print(grp1)"
   ]
  },
  {
   "cell_type": "code",
   "execution_count": 126,
   "metadata": {},
   "outputs": [
    {
     "name": "stdout",
     "output_type": "stream",
     "text": [
      "         pkSeqID         stime flags  flgs_number proto  proto_number  pkts  \\\n",
      "144        145.0  1.528089e+09   e s          2.0   tcp           1.0  12.0   \n",
      "276        277.0  1.528089e+09   e s          2.0   tcp           1.0  14.0   \n",
      "277        278.0  1.528089e+09   e s          2.0   UDP           1.0  11.0   \n",
      "278        279.0  1.528089e+09   e s          2.0   UDP           1.0  12.0   \n",
      "283        284.0  1.528089e+09   e s          2.0   tcp           1.0  11.0   \n",
      "...          ...           ...   ...          ...   ...           ...   ...   \n",
      "998213  998214.0  1.528085e+09     e          1.0   udp           3.0  13.0   \n",
      "998214  998215.0  1.528085e+09     e          1.0   udp           3.0  13.0   \n",
      "998215  998216.0  1.528085e+09     e          1.0   udp           3.0  13.0   \n",
      "998216  998217.0  1.528085e+09     e          1.0   udp           3.0  13.0   \n",
      "998217  998218.0  1.528085e+09     e          1.0   udp           3.0  13.0   \n",
      "\n",
      "            mean    stddev        sum       min       max  sbytes  \\\n",
      "144     0.853070  0.815302   1.706141  0.037768  1.668373  2287.0   \n",
      "276     1.798276  1.526742   3.596553  0.271534  3.325019  3723.0   \n",
      "277     0.429449  0.399370   0.858899  0.030079  0.828820  2504.0   \n",
      "278     0.941195  0.911296   1.882390  0.029899  1.852491  2590.0   \n",
      "283     4.911030  0.000000   4.911030  4.911030  4.911030  2008.0   \n",
      "...          ...       ...        ...       ...       ...     ...   \n",
      "998213  3.588331  1.794191  17.941654  0.000000  4.498193   780.0   \n",
      "998214  3.588331  1.794191  17.941654  0.000000  4.498193   780.0   \n",
      "998215  3.588331  1.794192  17.941654  0.000000  4.498193   780.0   \n",
      "998216  3.582547  1.791317  17.912737  0.000000  4.498196   780.0   \n",
      "998217  3.582547  1.791317  17.912733  0.000000  4.498196   780.0   \n",
      "\n",
      "        Pkts_P_State_P_Protocol_P_DestIP subcategory  \n",
      "144                                375.0        HTTP  \n",
      "276                                754.0        HTTP  \n",
      "277                                754.0        HTTP  \n",
      "278                                754.0        HTTP  \n",
      "283                                754.0        HTTP  \n",
      "...                                  ...         ...  \n",
      "998213                             234.0         UDP  \n",
      "998214                             234.0         UDP  \n",
      "998215                             234.0         UDP  \n",
      "998216                             234.0         UDP  \n",
      "998217                             234.0         UDP  \n",
      "\n",
      "[121248 rows x 15 columns]\n"
     ]
    }
   ],
   "source": [
    "grp2=result.loc[result['pkts']>10]\n",
    "print(grp2)"
   ]
  },
  {
   "cell_type": "code",
   "execution_count": null,
   "metadata": {},
   "outputs": [],
   "source": []
  },
  {
   "cell_type": "markdown",
   "metadata": {},
   "source": [
    "Q14"
   ]
  },
  {
   "cell_type": "code",
   "execution_count": 135,
   "metadata": {},
   "outputs": [
    {
     "name": "stdout",
     "output_type": "stream",
     "text": [
      "746.0976430976431\n"
     ]
    }
   ],
   "source": [
    "r14=result.loc[result['subcategory']=='HTTP']\n",
    "r14=r14['Pkts_P_State_P_Protocol_P_DestIP'].mean()\n",
    "print(r14)"
   ]
  },
  {
   "cell_type": "code",
   "execution_count": 136,
   "metadata": {},
   "outputs": [
    {
     "name": "stdout",
     "output_type": "stream",
     "text": [
      "329.8424106502549\n"
     ]
    }
   ],
   "source": [
    "r14=result.loc[result['subcategory']=='TCP']\n",
    "r14=r14['Pkts_P_State_P_Protocol_P_DestIP'].mean()\n",
    "print(r14)"
   ]
  },
  {
   "cell_type": "markdown",
   "metadata": {},
   "source": [
    "Q15"
   ]
  },
  {
   "cell_type": "code",
   "execution_count": 137,
   "metadata": {},
   "outputs": [
    {
     "data": {
      "text/plain": [
       "array([[<AxesSubplot: title={'center': 'stime'}>]], dtype=object)"
      ]
     },
     "execution_count": 137,
     "metadata": {},
     "output_type": "execute_result"
    },
    {
     "data": {
      "image/png": "[encoded data removed]",
      "text/plain": [
       "<Figure size 640x480 with 1 Axes>"
      ]
     },
     "metadata": {},
     "output_type": "display_data"
    }
   ],
   "source": [
    "result.hist(column='stime')"
   ]
  }
 ],
 "metadata": {
  "kernelspec": {
   "display_name": "Python 3.10.1 64-bit",
   "language": "python",
   "name": "python3"
  },
  "language_info": {
   "codemirror_mode": {
    "name": "ipython",
    "version": 3
   },
   "file_extension": ".py",
   "mimetype": "text/x-python",
   "name": "python",
   "nbconvert_exporter": "python",
   "pygments_lexer": "ipython3",
   "version": "3.10.1"
  },
  "orig_nbformat": 4,
  "vscode": {
   "interpreter": {
    "hash": "f3a32c69e7cb24e714e122151a826aadd9292f6f0bc9bc50d602b279d1b92579"
   }
  }
 },
 "nbformat": 4,
 "nbformat_minor": 2
}
