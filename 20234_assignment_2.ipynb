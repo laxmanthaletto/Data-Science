{
 "cells": [
  {
   "cell_type": "markdown",
   "metadata": {},
   "source": [
    "# **19CSE304: Foundations of Data Science**"
   ]
  },
  {
   "cell_type": "markdown",
   "metadata": {},
   "source": [
    "**Roll No: CB.EN.U4CSE20234**"
   ]
  },
  {
   "cell_type": "markdown",
   "metadata": {},
   "source": [
    "**Name: Laxman K R**"
   ]
  },
  {
   "cell_type": "code",
   "execution_count": null,
   "metadata": {},
   "outputs": [],
   "source": [
    "import numpy as np\n",
    "import pandas as pd\n",
    "import matplotlib.pyplot as mat"
   ]
  },
  {
   "cell_type": "markdown",
   "metadata": {},
   "source": [
    "Q1"
   ]
  },
  {
   "cell_type": "code",
   "execution_count": null,
   "metadata": {},
   "outputs": [],
   "source": [
    "data=pd.read_csv(\"https://github.com/flaviovdf/evcomp2018/raw/master/data/nc-est2015-agesex-res.csv \")\n",
    "df=pd.DataFrame(data)\n",
    "print(df)"
   ]
  },
  {
   "cell_type": "markdown",
   "metadata": {},
   "source": [
    "Q2"
   ]
  },
  {
   "cell_type": "code",
   "execution_count": null,
   "metadata": {},
   "outputs": [],
   "source": [
    "d=pd.read_csv(\"https://github.com/flaviovdf/evcomp2018/raw/master/data/nba_salaries.csv\")\n",
    "df=pd.DataFrame(d)\n",
    "print(df.size)\n",
    "print(df.head(5))\n",
    "print(df.loc[[3,10,22],:])\n",
    "df.sort_values(\"SALARY\")\n",
    "df.sort_values(\"SALARY\",ascending=False)\n",
    "df.sort_values(\"PLAYER\")\n",
    "print(df[\"SALARY\"].head(5))\n",
    "print(df.loc[df['SALARY']>10])\n",
    "df.set_index(\"PLAYER\", inplace = True)\n",
    "df.loc[['Stephen Curry'],'SALARY']\n",
    "print(df.loc[(df['SALARY']>15) & (df['POSITION']=='PG')])\n",
    "df.set_index(\"TEAM\", inplace = True)\n",
    "print(df.loc['Golden State Warriors'])\n",
    "df.groupby('TEAM').sum('SALARY')\n",
    "df.groupby('POSITION').count()\n",
    "df.groupby('POSITION').mean('SALARY')\n",
    "\n"
   ]
  },
  {
   "cell_type": "markdown",
   "metadata": {},
   "source": [
    "Q3"
   ]
  },
  {
   "cell_type": "code",
   "execution_count": null,
   "metadata": {},
   "outputs": [],
   "source": [
    "d=pd.read_csv(\"https://github.com/flaviovdf/evcomp2018/raw/master/data/educ_inc.csv\")\n",
    "df=pd.DataFrame(d)\n",
    "print(df)\n"
   ]
  }
 ],
 "metadata": {
  "kernelspec": {
   "display_name": "Python 3.10.1 64-bit",
   "language": "python",
   "name": "python3"
  },
  "language_info": {
   "codemirror_mode": {
    "name": "ipython",
    "version": 3
   },
   "file_extension": ".py",
   "mimetype": "text/x-python",
   "name": "python",
   "nbconvert_exporter": "python",
   "pygments_lexer": "ipython3",
   "version": "3.10.1"
  },
  "orig_nbformat": 4,
  "vscode": {
   "interpreter": {
    "hash": "f3a32c69e7cb24e714e122151a826aadd9292f6f0bc9bc50d602b279d1b92579"
   }
  }
 },
 "nbformat": 4,
 "nbformat_minor": 2
}
