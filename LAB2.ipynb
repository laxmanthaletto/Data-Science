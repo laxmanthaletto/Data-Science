{
  "cells": [
    {
      "cell_type": "markdown",
      "metadata": {
        "id": "vg3ioKqvpQ3O"
      },
      "source": [
        "# **19CSE305: MACHINE LEARNING LAB 2**\n",
        "\n",
        "PYTHON BASICS : EXCERCISES"
      ]
    },
    {
      "cell_type": "markdown",
      "metadata": {
        "id": "burmJnBypUxF"
      },
      "source": [
        "ROLL NUMBER: "
      ]
    },
    {
      "cell_type": "markdown",
      "metadata": {
        "id": "hrgW4a0CJs34"
      },
      "source": [
        "PYTHON BASIC EXCERSISE\n",
        "\n",
        "1)Get two positive integers start and end from the user and write a Python program to print all Prime numbers in that Interval.\n",
        "2) Given a list of strings( Entered by the user), write program to get a percentage share of each word in the strings list.\n",
        "percentage := (Occurrence of a word / Total words) * 100\n",
        "3)Check if  given number is Fibonacci number or not. Given an integer ‘n’( Entered by the user), write a Python function that returns true if n  is Fibonacci number else return false.\n",
        "4)Write a program to check if all digits of a number divide it. Given a number n( Entered by the user), find whether all digits of n divide it or not.\n",
        "5)Get a given array as input from the user and split it from a specified position, and move the first part of array add to the end.\n",
        "example:\n",
        "Input : {1, 2, 3, 4, 5}, k = 3\n",
        "Output :{4,5,1,2,3}\n",
        "\n",
        "\n",
        "NUMPY BASIC EXCERSISE\n",
        "\n",
        "1) Create a 2D array of shape 4x5 that contains random decimal numbers between 3 and 10.\n",
        "2) Create a randomly created 1D array and Convert it to a 2D array with 2 rows.\n",
        "3) Given a NumPy array of temperature values, convert the values of Fahrenheit degrees into Centigrade degrees. \n",
        "4) Write a NumPy program to count the number of dimensions, number of elements and number of bytes for each element in a given array.\n",
        "5) Write a NumPy program to extract third and fourth elements of the second and third rows from a given (3x4) array.\n",
        "\n"
      ]
    }
  ],
  "metadata": {
    "colab": {
      "collapsed_sections": [],
      "name": "ML_LAB1_SET_2.ipynb",
      "provenance": []
    },
    "kernelspec": {
      "display_name": "Python 3.10.1 64-bit",
      "language": "python",
      "name": "python3"
    },
    "language_info": {
      "name": "python",
      "version": "3.10.1"
    },
    "vscode": {
      "interpreter": {
        "hash": "f3a32c69e7cb24e714e122151a826aadd9292f6f0bc9bc50d602b279d1b92579"
      }
    }
  },
  "nbformat": 4,
  "nbformat_minor": 0
}
