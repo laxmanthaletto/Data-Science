{
 "cells": [
  {
   "cell_type": "markdown",
   "id": "1502545f",
   "metadata": {},
   "source": [
    "# **19CSE305: Machine Learning Lab 2**"
   ]
  },
  {
   "cell_type": "markdown",
   "id": "6d62a6e7",
   "metadata": {},
   "source": [
    "**Roll Number: CB.EN.U4CSE20234**"
   ]
  },
  {
   "cell_type": "markdown",
   "id": "335e64bc",
   "metadata": {},
   "source": [
    "**Python Basic Excercise**"
   ]
  },
  {
   "cell_type": "markdown",
   "id": "0b5bc288",
   "metadata": {},
   "source": [
    "Finding prime numbers between two numbers"
   ]
  },
  {
   "cell_type": "code",
   "execution_count": null,
   "id": "f5c2e524",
   "metadata": {},
   "outputs": [],
   "source": [
    "a = int(input())\n",
    "b = int(input())"
   ]
  },
  {
   "cell_type": "code",
   "execution_count": null,
   "id": "b5e5e987",
   "metadata": {},
   "outputs": [],
   "source": [
    "\n",
    "for i in range(a,b):\n",
    "  flag = 0\n",
    "  for j in range(2,b-1):\n",
    "    if i%j == 0:\n",
    "      if i!=j:\n",
    "        flag = 1\n",
    "  if flag == 0:\n",
    "    print(i)"
   ]
  },
  {
   "cell_type": "markdown",
   "id": "b175a1e7",
   "metadata": {},
   "source": [
    "Checking whether a number is fibonacci number or not"
   ]
  },
  {
   "cell_type": "code",
   "execution_count": null,
   "id": "a91f8fd5",
   "metadata": {},
   "outputs": [],
   "source": [
    "  def fibonacci(num,mem = {}):\n",
    "    if(num in mem):\n",
    "      return mem[num]\n",
    "    elif num == 1:\n",
    "      return 1\n",
    "    elif num == 0:\n",
    "      return 0\n",
    "    mem[num] = fibonacci(num-1,mem)+ fibonacci(num-2,mem)\n",
    "    return mem[num]"
   ]
  },
  {
   "cell_type": "code",
   "execution_count": null,
   "id": "361988ce",
   "metadata": {},
   "outputs": [],
   "source": [
    "inp = int(input(\"Enter a number to search in Fibonacci Series: \"))"
   ]
  },
  {
   "cell_type": "code",
   "execution_count": null,
   "id": "4d739435",
   "metadata": {},
   "outputs": [],
   "source": [
    "i = 0\n",
    "flag = 0\n",
    "while(fibonacci(i) <= inp):\n",
    "  if fibonacci(i) == inp:\n",
    "    flag = 1\n",
    "    break\n",
    "  i+=1\n",
    "if(flag):\n",
    "  print(inp, \"is a fibonacci number\")\n",
    "else:\n",
    "  print(inp, \"is not a fibonacci number\")\n",
    "    "
   ]
  },
  {
   "cell_type": "markdown",
   "id": "0e923ab7",
   "metadata": {},
   "source": [
    "Check if all the digits of a number divide it"
   ]
  },
  {
   "cell_type": "code",
   "execution_count": null,
   "id": "6fddef65",
   "metadata": {},
   "outputs": [],
   "source": [
    "def checkDivisibility(n, digit) :\n",
    "     \n",
    "    return (digit != 0 and n % digit == 0)\n",
    "     \n",
    "\n",
    "def allDigitsDivide( n) :\n",
    "     \n",
    "    temp = n\n",
    "    while (temp > 0) :\n",
    "         \n",
    "        digit = temp % 10\n",
    "        if ((checkDivisibility(n, digit)) == False) :\n",
    "            return False\n",
    " \n",
    "        temp = temp // 10\n",
    "     \n",
    "    return True\n",
    " "
   ]
  },
  {
   "cell_type": "code",
   "execution_count": null,
   "id": "dd5ef12b",
   "metadata": {},
   "outputs": [],
   "source": [
    "x = int(input('Enter the Number to check its divisibility by its digits: '))"
   ]
  },
  {
   "cell_type": "code",
   "execution_count": null,
   "id": "2c0d1c71",
   "metadata": {},
   "outputs": [],
   "source": [
    "if (allDigitsDivide(x)) :\n",
    "    print('The number is divisible by all its digits')\n",
    "else :\n",
    "    print('The number is not divisible by all its digits')"
   ]
  },
  {
   "cell_type": "markdown",
   "id": "b3a6ed59",
   "metadata": {},
   "source": [
    "**Numpy Basic Excercise**"
   ]
  },
  {
   "cell_type": "markdown",
   "id": "8a0ff5e6",
   "metadata": {},
   "source": [
    "Create a 2D array of shape 4x5 that contains random decimal numbers between 3 and 10."
   ]
  },
  {
   "cell_type": "code",
   "execution_count": null,
   "id": "8db5056b",
   "metadata": {},
   "outputs": [],
   "source": [
    "import numpy as np\n",
    "from numpy import random\n",
    "import sys\n",
    "arr = random.uniform(3,10, size=(4, 5))\n",
    "print(arr)"
   ]
  },
  {
   "cell_type": "markdown",
   "id": "f00213c4",
   "metadata": {},
   "source": [
    "Create a randomly created 1D array and Convert it to a 2D array with 2 rows."
   ]
  },
  {
   "cell_type": "code",
   "execution_count": null,
   "id": "0e665795",
   "metadata": {},
   "outputs": [],
   "source": [
    "array = np.array([1,2,3,4,5,6])\n",
    "arr2 = array.reshape(2,3)\n",
    "print(arr2)"
   ]
  },
  {
   "cell_type": "markdown",
   "id": "31a79173",
   "metadata": {},
   "source": [
    "Given a NumPy array of temperature values, convert the values of Fahrenheit degrees into Centigrade degrees."
   ]
  },
  {
   "cell_type": "code",
   "execution_count": null,
   "id": "b11cf035",
   "metadata": {},
   "outputs": [],
   "source": [
    "f=np.array([100,85,95,88,66,112])\n",
    "ce=np.zeros((f.size))\n",
    "for i in range(0,f.size):\n",
    "    c=(f[i]-32)*(5/9)\n",
    "    ce[i]=c\n",
    "print(ce)"
   ]
  },
  {
   "cell_type": "markdown",
   "id": "00b44e05",
   "metadata": {},
   "source": [
    "Write a NumPy program to count the number of dimensions, number of elements and number of bytes for each element in a given array."
   ]
  },
  {
   "cell_type": "code",
   "execution_count": null,
   "id": "b5235feb",
   "metadata": {},
   "outputs": [],
   "source": [
    "from numpy.core.fromnumeric import size\n",
    "arra=np.array([[1,2,3],[4,5,6]])\n",
    "print(arra.ndim)\n",
    "print(arra.size)\n",
    "print(sys.getsizeof(arra)/arra.size)"
   ]
  }
 ],
 "metadata": {
  "kernelspec": {
   "display_name": "Python 3.10.1 64-bit",
   "language": "python",
   "name": "python3"
  },
  "language_info": {
   "codemirror_mode": {
    "name": "ipython",
    "version": 3
   },
   "file_extension": ".py",
   "mimetype": "text/x-python",
   "name": "python",
   "nbconvert_exporter": "python",
   "pygments_lexer": "ipython3",
   "version": "3.10.1"
  },
  "vscode": {
   "interpreter": {
    "hash": "f3a32c69e7cb24e714e122151a826aadd9292f6f0bc9bc50d602b279d1b92579"
   }
  }
 },
 "nbformat": 4,
 "nbformat_minor": 5
}
