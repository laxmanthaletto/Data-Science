{
 "cells": [
  {
   "cell_type": "markdown",
   "id": "ccff9d90",
   "metadata": {},
   "source": [
    "1."
   ]
  },
  {
   "cell_type": "code",
   "execution_count": 1,
   "id": "f01696a4",
   "metadata": {},
   "outputs": [
    {
     "name": "stdout",
     "output_type": "stream",
     "text": [
      "\n",
      "Network Stations Accessible from Station number 1  are:  1 2 3 4 5 9 6 7 11 10 \n",
      "Network Stations Accessible from Station number 2  are:  2 1 11 10 3 4 5 9 6 7 8 \n",
      "Network Stations Accessible from Station number 3  are:  3 2 1 11 10 4 5 9 6 7 8 \n",
      "Network Stations Accessible from Station number 4  are:  4 3 2 1 11 9 6 7 8 5 \n",
      "Network Stations Accessible from Station number 5  are:  5 4 3 2 1 9 6 7 \n",
      "Network Stations Accessible from Station number 6  are:  6 7 8 3 2 1 11 4 5 9 \n",
      "Network Stations Accessible from Station number 7  are:  7 6 3 2 1 4 5 9 8 \n",
      "Network Stations Accessible from Station number 8  are:  8 7 6 3 2 4 9 \n",
      "Network Stations Accessible from Station number 9  are:  9 3 2 1 11 4 5 6 7 8 \n",
      "Network Stations Accessible from Station number 10  are:  10 11 1 2 3 \n",
      "Network Stations Accessible from Station number 11  are:  11 10 1 2 3 4 9 6 "
     ]
    }
   ],
   "source": [
    "def AccessStations(Graph):\n",
    "  for i in Graph:\n",
    "    visited = []\n",
    "    print(\"\\nNetwork Stations Accessible from Station number\",i.num,\" are: \", end=\" \")\n",
    "    AllStations(Graph,i,0,visited)\n",
    "\n",
    "    \n",
    "def AllStations(Graph,vertex,depth,visited):\n",
    "  if depth <=4:\n",
    "    if vertex in visited:\n",
    "      return\n",
    "    visited.append(vertex)\n",
    "    display(vertex.num)\n",
    "    for i in Graph[vertex]:\n",
    "      AllStations(Graph,i,depth+1,visited)\n",
    "    \n",
    "\n",
    "def display(val):\n",
    "    print(val, end=\" \")\n",
    "\n",
    "\n",
    "\n",
    "class graph:\n",
    "  def __init__(self,vertices):\n",
    "    self.num = vertices\n",
    "\n",
    "v1 = graph(1)\n",
    "v2 = graph(2)\n",
    "v3 = graph(3)\n",
    "v4 = graph(4)\n",
    "v5 = graph(5)\n",
    "v6 = graph(6)\n",
    "v7 = graph(7)\n",
    "v8 = graph(8)\n",
    "v9 = graph(9)\n",
    "v10 = graph(10)\n",
    "v11=graph(11)\n",
    "\n",
    "\n",
    "\n",
    "A = {v1:[v2,v11], v2:[v1,v3], v3:[v2,v4,v9,v6], v4:[v3,v5], v5:[v4],\n",
    "      v6:[v7,v3], v7:[v6,v8], v8:[v7], v9:[v3], v10:[v11],v11:[v10,v1]}\n",
    "\n",
    "  \n",
    "AccessStations(A)"
   ]
  },
  {
   "cell_type": "markdown",
   "id": "aa32c77c",
   "metadata": {},
   "source": [
    "2."
   ]
  },
  {
   "cell_type": "code",
   "execution_count": 10,
   "id": "caee342d",
   "metadata": {},
   "outputs": [
    {
     "name": "stdout",
     "output_type": "stream",
     "text": [
      "The diameter is : 5\n",
      "The nodes used to find diameter are  8 and 7\n"
     ]
    }
   ],
   "source": [
    "class graph:\n",
    "\n",
    "    def depthfirstsearch(self,arr,source,count=0):\n",
    "        global visit\n",
    "        global d1\n",
    "        visit[source]=True\n",
    "        k=0\n",
    "        for i in arr[source]:\n",
    "            if visit[i]==False:\n",
    "                count+=1\n",
    "                self.depthfirstsearch(arr,i,count)\n",
    "                k=1\n",
    "                count-=1\n",
    "            \n",
    "        if k==0:\n",
    "            d1[count]=source\n",
    "       \n",
    "        \n",
    "gr=graph()\n",
    "arr=[[1,2,3],[0,4,5],[0],[0,6,7],[1,8],[1],[3],[3],[4]]\n",
    "        \n",
    "d1={}\n",
    "\n",
    "visit=[]\n",
    "\n",
    "for i in range(9):\n",
    "    visit.append(False)\n",
    "    \n",
    "gr.depthfirstsearch(arr,2)\n",
    "m=max(d1.keys())\n",
    "a=d1[m]\n",
    "\n",
    "for i in range(9):\n",
    "    visit[i]=False\n",
    "d1={}\n",
    "gr.depthfirstsearch(arr,a)\n",
    "m=max(d1.keys())\n",
    "\n",
    "print(\"The diameter is :\",m)\n",
    "print(\"The nodes used to find diameter are \",a,\"and\",d1[m])\n"
   ]
  },
  {
   "cell_type": "markdown",
   "id": "e5143a2e",
   "metadata": {},
   "source": [
    "3."
   ]
  },
  {
   "cell_type": "code",
   "execution_count": 2,
   "id": "50f27ddd",
   "metadata": {},
   "outputs": [
    {
     "name": "stdout",
     "output_type": "stream",
     "text": [
      "Maximum cost will be  39 $\n",
      "\n",
      "Edges \tWeight\n",
      "4  -  1  \t 12\n",
      "4  -  2  \t 10\n",
      "0  -  3  \t 8\n",
      "3  -  4  \t 9\n"
     ]
    }
   ],
   "source": [
    "V = 5;\n",
    " \n",
    "def findMaxV(visited, wgt):\n",
    "    index = -1;\n",
    "    maxwgt = -1;\n",
    "    for i in range(V):\n",
    "        if (visited[i] == False and wgt[i] > maxwgt):\n",
    "            maxwgt = wgt[i];\n",
    "            index = i;\n",
    "    return index;\n",
    " \n",
    "\n",
    "def printMSTree(network, par):\n",
    "    MST = 0;\n",
    "    for i in range(1, V):\n",
    "        MST += network[i][par[i]];\n",
    "    print(\"Maximum cost will be \", MST,\"$\");\n",
    "    print();\n",
    "    print(\"Edges \\tWeight\");\n",
    "    for i in range(1, V):\n",
    "        print(par[i] , \" - \" , i , \" \\t\" , network[i][par[i]]);\n",
    " \n",
    "def MSTree(network):\n",
    "    visited = [False]*V;\n",
    "    wgt = [0]*V;\n",
    "    par = [0]*V;\n",
    "    for i in range(V):\n",
    "        wgt[i] = -1;\n",
    "    wgt[0] = 100000;\n",
    "    par[0] = -1;\n",
    "    for i in range(V - 1):\n",
    "        maxVertexIndex = findMaxV(visited, wgt);\n",
    "        visited[maxVertexIndex] = True;\n",
    "        for j in range(V):\n",
    "            if (network[j][maxVertexIndex] != 0 and visited[j] == False):\n",
    "                if (network[j][maxVertexIndex] > wgt[j]):\n",
    "                    wgt[j] = network[j][maxVertexIndex];\n",
    "                    par[j] = maxVertexIndex;\n",
    "    printMSTree(network, par);\n",
    "\n",
    "network = [[0, 3, 0, 8, 0], [3, 0, 0, 7, 12], [0, 0, 0, 0, 10], [8, 7, 0, 0, 9],\n",
    "                                                                 [0, 12, 10, 9, 0]];\n",
    " \n",
    "MSTree(network);\n"
   ]
  },
  {
   "cell_type": "markdown",
   "id": "b6a28b2f",
   "metadata": {},
   "source": [
    "4."
   ]
  },
  {
   "cell_type": "code",
   "execution_count": 4,
   "id": "b20783ff",
   "metadata": {},
   "outputs": [
    {
     "name": "stdout",
     "output_type": "stream",
     "text": [
      "1 4 7 8 9 2 4 6 \n",
      "[1, 2, 4, 4, 6, 7, 8, 9]\n"
     ]
    }
   ],
   "source": [
    "#Insertion Sort\n",
    "def ins(A):\n",
    "    for i in range(1,len(A)):\n",
    "        key=A[i]\n",
    "        j=i-1\n",
    "        while j>=0 and key<A[j]:\n",
    "            A[j+1]=A[j]\n",
    "            j=j-1\n",
    "        A[j+1]=key    \n",
    "A=list(map(int, input().strip().split()))\n",
    "ins(A)\n",
    "print(A)"
   ]
  },
  {
   "cell_type": "code",
   "execution_count": 5,
   "id": "58aa60c6",
   "metadata": {},
   "outputs": [
    {
     "name": "stdout",
     "output_type": "stream",
     "text": [
      "1 4 5 7 6 3 1\n",
      "[1, 1, 3, 4, 5, 6, 7]\n"
     ]
    }
   ],
   "source": [
    "#Quick Sort\n",
    "def partition(A,low,high):\n",
    "    pivot=A[high]\n",
    "    i=low-1\n",
    "    for j in range(low,high):\n",
    "        if A[j]<=pivot:\n",
    "            i+=1\n",
    "            A[i],A[j]=A[j],A[i]\n",
    "    A[i+1],A[high]=A[high],A[i+1]\n",
    "    return i+1\n",
    "def quick(A,low,high):\n",
    "    if low<high:\n",
    "        \n",
    "        pi=partition(A,low,high)\n",
    "        quick(A,low,pi-1)\n",
    "        quick(A,pi+1,high)\n",
    "        \n",
    "A=list(map(int, input().strip().split()))\n",
    "quick(A,0,len(A)-1)\n",
    "print(A)"
   ]
  },
  {
   "cell_type": "code",
   "execution_count": 6,
   "id": "78ee3a7b",
   "metadata": {},
   "outputs": [
    {
     "name": "stdout",
     "output_type": "stream",
     "text": [
      "4 7 6 2 1 8 \n",
      "[1, 2, 4, 6, 7, 8]\n"
     ]
    }
   ],
   "source": [
    "#Merge Sort\n",
    "def merge(A):\n",
    "    if len(A)>1:\n",
    "        m=len(A)//2\n",
    "        \n",
    "        l=A[:m]\n",
    "        r=A[m:]\n",
    "        \n",
    "        merge(l)\n",
    "        merge(r)\n",
    "        \n",
    "        i=0\n",
    "        j=0\n",
    "        k=0\n",
    "        \n",
    "        while i<len(l) and j<len(r):\n",
    "            if l[i]<=r[j]:\n",
    "                A[k]=l[i]\n",
    "                i+=1\n",
    "                k+=1\n",
    "            else:\n",
    "                A[k]=r[j]\n",
    "                j+=1\n",
    "                k+=1\n",
    "        while i<len(l):\n",
    "            A[k]=l[i]\n",
    "            i+=1\n",
    "            k+=1\n",
    "        while j<len(r):\n",
    "            A[k]=r[j]\n",
    "            j+=1\n",
    "            k+=1\n",
    "A=list(map(int, input().strip().split()))\n",
    "merge(A)\n",
    "print(A)\n",
    "            "
   ]
  },
  {
   "cell_type": "code",
   "execution_count": 7,
   "id": "492388a3",
   "metadata": {},
   "outputs": [
    {
     "name": "stdout",
     "output_type": "stream",
     "text": [
      "7 85 4 2 1 6 \n",
      "[1, 2, 4, 6, 7, 85]\n"
     ]
    }
   ],
   "source": [
    "#Selection Sort\n",
    "def sel(A):\n",
    "    for i in range(len(A)):\n",
    "        min=i\n",
    "        for j in range(1+i,len(A)):\n",
    "            if A[min]>A[j]:\n",
    "                min=j\n",
    "        A[min],A[i]=A[i],A[min]\n",
    "A=list(map(int, input().strip().split()))\n",
    "sel(A)\n",
    "print(A)"
   ]
  },
  {
   "cell_type": "code",
   "execution_count": 9,
   "id": "bb256994",
   "metadata": {},
   "outputs": [
    {
     "name": "stdout",
     "output_type": "stream",
     "text": [
      "4 8 2 4 6 7 1\n",
      "[1, 2, 4, 4, 6, 7, 8]\n"
     ]
    }
   ],
   "source": [
    "\n",
    "#Bubble Sort\n",
    "def bub(A):\n",
    "    for i in range(0,len(A)-1):\n",
    "        for j in range(0,len(A)-i-1):\n",
    "            if A[j]>A[j+1]:\n",
    "                A[j],A[j+1]=A[j+1],A[j]\n",
    "A=list(map(int, input().strip().split()))\n",
    "bub(A)\n",
    "print(A)"
   ]
  },
  {
   "cell_type": "code",
   "execution_count": null,
   "id": "befb6bd8",
   "metadata": {},
   "outputs": [],
   "source": []
  }
 ],
 "metadata": {
  "kernelspec": {
   "display_name": "Python 3.10.1 64-bit",
   "language": "python",
   "name": "python3"
  },
  "language_info": {
   "codemirror_mode": {
    "name": "ipython",
    "version": 3
   },
   "file_extension": ".py",
   "mimetype": "text/x-python",
   "name": "python",
   "nbconvert_exporter": "python",
   "pygments_lexer": "ipython3",
   "version": "3.10.1"
  },
  "vscode": {
   "interpreter": {
    "hash": "f3a32c69e7cb24e714e122151a826aadd9292f6f0bc9bc50d602b279d1b92579"
   }
  }
 },
 "nbformat": 4,
 "nbformat_minor": 5
}
